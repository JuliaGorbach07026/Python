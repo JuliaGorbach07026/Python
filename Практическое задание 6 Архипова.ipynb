{
 "cells": [
  {
   "cell_type": "markdown",
   "id": "f691d79a",
   "metadata": {},
   "source": [
    "# Практическая работа№ 6 // Архипова Юлия Группа ДА - 802"
   ]
  },
  {
   "cell_type": "markdown",
   "id": "e70711ce",
   "metadata": {},
   "source": [
    "**Инструкция:**\n",
    "\n",
    "- Шаг 1.  Изучить материалы лекционных и практических занятий по теме 9.2-9.3. \n",
    "- Шаг 2. Получить данные из файла **Heart_Disease_Prediction_ru.csv**. Датасет разбить на тестовую и обучающую выборку.Датасет разбить на тестовую и обучающую выборку. Цель - спрогнозировать сердечную недостаточность. Признак Сердечное заболевание. Presence - есть, Absence - нет. \n",
    "- Шаг 3. Выполнить кластерный анализ с помощью алгоритма k-means.\n",
    "- Шаг 4. Постройть диаграмму рассеивания - scatter plot.\n",
    "- Шаг 5. Построить модель прогноза с помощью алгоритма Дерево решений. Провести обучение модели.\n",
    "- Шаг 6. Выполнить прогноз и провести оценку модели.\n",
    "- Шаг 7. Опубликуовать файл расширения ipynb на платформе Odin."
   ]
  },
  {
   "cell_type": "code",
   "execution_count": 1,
   "id": "d3d0b40c",
   "metadata": {},
   "outputs": [],
   "source": [
    "import numpy as np\n",
    "import pandas as pd\n",
    "import matplotlib.pyplot as plt\n",
    "import seaborn as sns\n",
    "from sklearn.model_selection import train_test_split\n",
    "from sklearn.preprocessing import MinMaxScaler\n",
    "from sklearn.cluster import KMeans \n",
    "from sklearn.feature_selection import SelectKBest,chi2,RFE\n",
    "from sklearn.ensemble import RandomForestClassifier\n",
    "from sklearn.metrics import accuracy_score\n",
    "from sklearn.tree import DecisionTreeClassifier, export_graphviz\n",
    "import plotly.graph_objs as go\n",
    "import plotly as py\n",
    "\n",
    "import warnings\n",
    "warnings.filterwarnings(\"ignore\")\n",
    "%config InlineBackend.figure_format = 'retina'\n",
    "%matplotlib inline"
   ]
  },
  {
   "cell_type": "markdown",
   "id": "9b9dfded",
   "metadata": {},
   "source": [
    "**Получить данные из файла Heart_Disease_Prediction_ru.csv** "
   ]
  },
  {
   "cell_type": "code",
   "execution_count": 2,
   "id": "cb20576d",
   "metadata": {},
   "outputs": [
    {
     "data": {
      "text/html": [
       "<div>\n",
       "<style scoped>\n",
       "    .dataframe tbody tr th:only-of-type {\n",
       "        vertical-align: middle;\n",
       "    }\n",
       "\n",
       "    .dataframe tbody tr th {\n",
       "        vertical-align: top;\n",
       "    }\n",
       "\n",
       "    .dataframe thead th {\n",
       "        text-align: right;\n",
       "    }\n",
       "</style>\n",
       "<table border=\"1\" class=\"dataframe\">\n",
       "  <thead>\n",
       "    <tr style=\"text-align: right;\">\n",
       "      <th></th>\n",
       "      <th>Возраст</th>\n",
       "      <th>Пол</th>\n",
       "      <th>Тип боли в груди</th>\n",
       "      <th>BP</th>\n",
       "      <th>Холестерин</th>\n",
       "      <th>FBS свыше 120</th>\n",
       "      <th>Результаты EKG</th>\n",
       "      <th>Max HR</th>\n",
       "      <th>Стенокардия</th>\n",
       "      <th>ST депрессия</th>\n",
       "      <th>Наклон ST</th>\n",
       "      <th>Количество сосудов флюро</th>\n",
       "      <th>Таллий</th>\n",
       "      <th>Сердечное заболевание</th>\n",
       "    </tr>\n",
       "  </thead>\n",
       "  <tbody>\n",
       "    <tr>\n",
       "      <th>0</th>\n",
       "      <td>70</td>\n",
       "      <td>1</td>\n",
       "      <td>4</td>\n",
       "      <td>130</td>\n",
       "      <td>322</td>\n",
       "      <td>0</td>\n",
       "      <td>2</td>\n",
       "      <td>109</td>\n",
       "      <td>0</td>\n",
       "      <td>2.4</td>\n",
       "      <td>2</td>\n",
       "      <td>3</td>\n",
       "      <td>3</td>\n",
       "      <td>Presence</td>\n",
       "    </tr>\n",
       "    <tr>\n",
       "      <th>1</th>\n",
       "      <td>67</td>\n",
       "      <td>0</td>\n",
       "      <td>3</td>\n",
       "      <td>115</td>\n",
       "      <td>564</td>\n",
       "      <td>0</td>\n",
       "      <td>2</td>\n",
       "      <td>160</td>\n",
       "      <td>0</td>\n",
       "      <td>1.6</td>\n",
       "      <td>2</td>\n",
       "      <td>0</td>\n",
       "      <td>7</td>\n",
       "      <td>Absence</td>\n",
       "    </tr>\n",
       "    <tr>\n",
       "      <th>2</th>\n",
       "      <td>57</td>\n",
       "      <td>1</td>\n",
       "      <td>2</td>\n",
       "      <td>124</td>\n",
       "      <td>261</td>\n",
       "      <td>0</td>\n",
       "      <td>0</td>\n",
       "      <td>141</td>\n",
       "      <td>0</td>\n",
       "      <td>0.3</td>\n",
       "      <td>1</td>\n",
       "      <td>0</td>\n",
       "      <td>7</td>\n",
       "      <td>Presence</td>\n",
       "    </tr>\n",
       "    <tr>\n",
       "      <th>3</th>\n",
       "      <td>64</td>\n",
       "      <td>1</td>\n",
       "      <td>4</td>\n",
       "      <td>128</td>\n",
       "      <td>263</td>\n",
       "      <td>0</td>\n",
       "      <td>0</td>\n",
       "      <td>105</td>\n",
       "      <td>1</td>\n",
       "      <td>0.2</td>\n",
       "      <td>2</td>\n",
       "      <td>1</td>\n",
       "      <td>7</td>\n",
       "      <td>Absence</td>\n",
       "    </tr>\n",
       "    <tr>\n",
       "      <th>4</th>\n",
       "      <td>74</td>\n",
       "      <td>0</td>\n",
       "      <td>2</td>\n",
       "      <td>120</td>\n",
       "      <td>269</td>\n",
       "      <td>0</td>\n",
       "      <td>2</td>\n",
       "      <td>121</td>\n",
       "      <td>1</td>\n",
       "      <td>0.2</td>\n",
       "      <td>1</td>\n",
       "      <td>1</td>\n",
       "      <td>3</td>\n",
       "      <td>Absence</td>\n",
       "    </tr>\n",
       "  </tbody>\n",
       "</table>\n",
       "</div>"
      ],
      "text/plain": [
       "   Возраст  Пол  Тип боли в груди   BP  Холестерин  FBS свыше 120  \\\n",
       "0       70    1                 4  130         322              0   \n",
       "1       67    0                 3  115         564              0   \n",
       "2       57    1                 2  124         261              0   \n",
       "3       64    1                 4  128         263              0   \n",
       "4       74    0                 2  120         269              0   \n",
       "\n",
       "   Результаты EKG  Max HR  Стенокардия  ST депрессия  Наклон ST  \\\n",
       "0               2     109            0           2.4          2   \n",
       "1               2     160            0           1.6          2   \n",
       "2               0     141            0           0.3          1   \n",
       "3               0     105            1           0.2          2   \n",
       "4               2     121            1           0.2          1   \n",
       "\n",
       "   Количество сосудов флюро  Таллий Сердечное заболевание  \n",
       "0                         3       3              Presence  \n",
       "1                         0       7               Absence  \n",
       "2                         0       7              Presence  \n",
       "3                         1       7               Absence  \n",
       "4                         1       3               Absence  "
      ]
     },
     "execution_count": 2,
     "metadata": {},
     "output_type": "execute_result"
    }
   ],
   "source": [
    "df = pd.read_csv(r'D:\\Wing 101 8\\Heart_Disease_Prediction_ru.csv')\n",
    "df.head()"
   ]
  },
  {
   "cell_type": "markdown",
   "id": "fb1f8d8a",
   "metadata": {},
   "source": [
    "**Разбить на тестовую и обучающую выборку**"
   ]
  },
  {
   "cell_type": "code",
   "execution_count": 3,
   "id": "2968227c",
   "metadata": {},
   "outputs": [
    {
     "data": {
      "text/plain": [
       "array(['Presence', 'Absence'], dtype=object)"
      ]
     },
     "execution_count": 3,
     "metadata": {},
     "output_type": "execute_result"
    }
   ],
   "source": [
    "df['Сердечное заболевание'].unique()"
   ]
  },
  {
   "cell_type": "markdown",
   "id": "510cafce",
   "metadata": {},
   "source": [
    "**Кластерный анализ на основе K средних**"
   ]
  },
  {
   "cell_type": "code",
   "execution_count": 4,
   "id": "9883ce26",
   "metadata": {},
   "outputs": [
    {
     "data": {
      "text/plain": [
       "array([0, 1, 0, 1, 1, 1, 0, 0, 0, 0, 1, 1, 1, 0, 1, 1, 0, 0, 1, 1, 0, 1,\n",
       "       1, 1, 1, 1, 1, 1, 0, 1, 0, 1, 1, 0, 0, 0, 0, 0, 1, 1, 0, 1, 1, 1,\n",
       "       0, 1, 0, 0, 0, 0, 0, 1, 1, 1, 1, 1, 0, 1, 0, 0, 1, 0, 1, 1, 1, 0,\n",
       "       1, 0, 1, 0, 0, 1, 1, 1, 1, 0, 1, 1, 1, 1, 0, 0, 0, 1, 1, 1, 1, 1,\n",
       "       1, 0, 1, 0, 0, 0, 0, 0, 1, 0, 1, 1, 1, 0, 1, 0, 0, 0, 1, 0, 0, 1,\n",
       "       0, 1, 0, 1, 1, 1, 0, 0, 1, 0, 0, 0, 0, 1, 1, 1, 0, 1, 1, 0, 0, 0,\n",
       "       1, 0, 1, 1, 1, 0, 1, 1, 0, 1, 0, 1, 0, 0, 0, 0, 0, 1, 1, 1, 1, 1,\n",
       "       1, 1, 0, 1, 1, 0, 0, 0, 1, 0, 1, 1, 1, 1, 1, 0, 1, 0, 0, 1, 1, 0,\n",
       "       0, 0, 0, 1, 1, 0, 0, 1, 1, 1, 0, 1, 1, 0, 1, 0, 1, 0, 1, 1, 1, 1,\n",
       "       1, 0, 1, 0, 0, 0, 0, 1, 1, 1, 0, 1, 0, 1, 1, 0, 1, 1, 1, 1, 1, 1,\n",
       "       0, 0, 1, 0, 1, 1, 0, 0, 1, 1, 0, 0, 1, 0, 1, 0, 1, 0, 1, 1, 0, 1,\n",
       "       1, 0, 1, 0, 0, 1, 0, 0, 0, 1, 0, 1, 1, 1, 1, 0, 0, 1, 1, 0, 0, 1,\n",
       "       0, 1, 1, 1, 1, 0], dtype=int64)"
      ]
     },
     "execution_count": 4,
     "metadata": {},
     "output_type": "execute_result"
    }
   ],
   "source": [
    "X = df[['Возраст','Пол','Тип боли в груди','Холестерин']]\n",
    "X = X.replace({'Пол' : {'Male':0, 'Female':1}})\n",
    "X = X.replace({'Сердечное заболевание':{'Presence':1,'Absence':0}})\n",
    "# преобразуем целевую переменную\n",
    "y = df['Сердечное заболевание'].map({'Presence':0, 'Absence':1}).values\n",
    "y"
   ]
  },
  {
   "cell_type": "code",
   "execution_count": 5,
   "id": "0617b6cf",
   "metadata": {},
   "outputs": [
    {
     "data": {
      "text/html": [
       "<div>\n",
       "<style scoped>\n",
       "    .dataframe tbody tr th:only-of-type {\n",
       "        vertical-align: middle;\n",
       "    }\n",
       "\n",
       "    .dataframe tbody tr th {\n",
       "        vertical-align: top;\n",
       "    }\n",
       "\n",
       "    .dataframe thead th {\n",
       "        text-align: right;\n",
       "    }\n",
       "</style>\n",
       "<table border=\"1\" class=\"dataframe\">\n",
       "  <thead>\n",
       "    <tr style=\"text-align: right;\">\n",
       "      <th></th>\n",
       "      <th>Возраст</th>\n",
       "      <th>Пол</th>\n",
       "      <th>Тип боли в груди</th>\n",
       "      <th>Холестерин</th>\n",
       "    </tr>\n",
       "  </thead>\n",
       "  <tbody>\n",
       "    <tr>\n",
       "      <th>0</th>\n",
       "      <td>70</td>\n",
       "      <td>1</td>\n",
       "      <td>4</td>\n",
       "      <td>322</td>\n",
       "    </tr>\n",
       "    <tr>\n",
       "      <th>1</th>\n",
       "      <td>67</td>\n",
       "      <td>0</td>\n",
       "      <td>3</td>\n",
       "      <td>564</td>\n",
       "    </tr>\n",
       "    <tr>\n",
       "      <th>2</th>\n",
       "      <td>57</td>\n",
       "      <td>1</td>\n",
       "      <td>2</td>\n",
       "      <td>261</td>\n",
       "    </tr>\n",
       "    <tr>\n",
       "      <th>3</th>\n",
       "      <td>64</td>\n",
       "      <td>1</td>\n",
       "      <td>4</td>\n",
       "      <td>263</td>\n",
       "    </tr>\n",
       "    <tr>\n",
       "      <th>4</th>\n",
       "      <td>74</td>\n",
       "      <td>0</td>\n",
       "      <td>2</td>\n",
       "      <td>269</td>\n",
       "    </tr>\n",
       "  </tbody>\n",
       "</table>\n",
       "</div>"
      ],
      "text/plain": [
       "   Возраст  Пол  Тип боли в груди  Холестерин\n",
       "0       70    1                 4         322\n",
       "1       67    0                 3         564\n",
       "2       57    1                 2         261\n",
       "3       64    1                 4         263\n",
       "4       74    0                 2         269"
      ]
     },
     "execution_count": 5,
     "metadata": {},
     "output_type": "execute_result"
    }
   ],
   "source": [
    "X.head()"
   ]
  },
  {
   "cell_type": "code",
   "execution_count": 6,
   "id": "db7fc8a4",
   "metadata": {},
   "outputs": [
    {
     "data": {
      "text/html": [
       "<div>\n",
       "<style scoped>\n",
       "    .dataframe tbody tr th:only-of-type {\n",
       "        vertical-align: middle;\n",
       "    }\n",
       "\n",
       "    .dataframe tbody tr th {\n",
       "        vertical-align: top;\n",
       "    }\n",
       "\n",
       "    .dataframe thead th {\n",
       "        text-align: right;\n",
       "    }\n",
       "</style>\n",
       "<table border=\"1\" class=\"dataframe\">\n",
       "  <thead>\n",
       "    <tr style=\"text-align: right;\">\n",
       "      <th></th>\n",
       "      <th>Возраст</th>\n",
       "      <th>Пол</th>\n",
       "      <th>Тип боли в груди</th>\n",
       "      <th>BP</th>\n",
       "      <th>Холестерин</th>\n",
       "      <th>FBS свыше 120</th>\n",
       "      <th>Результаты EKG</th>\n",
       "      <th>Max HR</th>\n",
       "      <th>Стенокардия</th>\n",
       "      <th>ST депрессия</th>\n",
       "      <th>Наклон ST</th>\n",
       "      <th>Количество сосудов флюро</th>\n",
       "      <th>Таллий</th>\n",
       "      <th>Сердечное заболевание</th>\n",
       "    </tr>\n",
       "  </thead>\n",
       "  <tbody>\n",
       "    <tr>\n",
       "      <th>0</th>\n",
       "      <td>70</td>\n",
       "      <td>1</td>\n",
       "      <td>4</td>\n",
       "      <td>130</td>\n",
       "      <td>322</td>\n",
       "      <td>0</td>\n",
       "      <td>2</td>\n",
       "      <td>109</td>\n",
       "      <td>0</td>\n",
       "      <td>2.4</td>\n",
       "      <td>2</td>\n",
       "      <td>3</td>\n",
       "      <td>3</td>\n",
       "      <td>Presence</td>\n",
       "    </tr>\n",
       "    <tr>\n",
       "      <th>1</th>\n",
       "      <td>67</td>\n",
       "      <td>0</td>\n",
       "      <td>3</td>\n",
       "      <td>115</td>\n",
       "      <td>564</td>\n",
       "      <td>0</td>\n",
       "      <td>2</td>\n",
       "      <td>160</td>\n",
       "      <td>0</td>\n",
       "      <td>1.6</td>\n",
       "      <td>2</td>\n",
       "      <td>0</td>\n",
       "      <td>7</td>\n",
       "      <td>Absence</td>\n",
       "    </tr>\n",
       "    <tr>\n",
       "      <th>2</th>\n",
       "      <td>57</td>\n",
       "      <td>1</td>\n",
       "      <td>2</td>\n",
       "      <td>124</td>\n",
       "      <td>261</td>\n",
       "      <td>0</td>\n",
       "      <td>0</td>\n",
       "      <td>141</td>\n",
       "      <td>0</td>\n",
       "      <td>0.3</td>\n",
       "      <td>1</td>\n",
       "      <td>0</td>\n",
       "      <td>7</td>\n",
       "      <td>Presence</td>\n",
       "    </tr>\n",
       "    <tr>\n",
       "      <th>3</th>\n",
       "      <td>64</td>\n",
       "      <td>1</td>\n",
       "      <td>4</td>\n",
       "      <td>128</td>\n",
       "      <td>263</td>\n",
       "      <td>0</td>\n",
       "      <td>0</td>\n",
       "      <td>105</td>\n",
       "      <td>1</td>\n",
       "      <td>0.2</td>\n",
       "      <td>2</td>\n",
       "      <td>1</td>\n",
       "      <td>7</td>\n",
       "      <td>Absence</td>\n",
       "    </tr>\n",
       "    <tr>\n",
       "      <th>4</th>\n",
       "      <td>74</td>\n",
       "      <td>0</td>\n",
       "      <td>2</td>\n",
       "      <td>120</td>\n",
       "      <td>269</td>\n",
       "      <td>0</td>\n",
       "      <td>2</td>\n",
       "      <td>121</td>\n",
       "      <td>1</td>\n",
       "      <td>0.2</td>\n",
       "      <td>1</td>\n",
       "      <td>1</td>\n",
       "      <td>3</td>\n",
       "      <td>Absence</td>\n",
       "    </tr>\n",
       "  </tbody>\n",
       "</table>\n",
       "</div>"
      ],
      "text/plain": [
       "   Возраст  Пол  Тип боли в груди   BP  Холестерин  FBS свыше 120  \\\n",
       "0       70    1                 4  130         322              0   \n",
       "1       67    0                 3  115         564              0   \n",
       "2       57    1                 2  124         261              0   \n",
       "3       64    1                 4  128         263              0   \n",
       "4       74    0                 2  120         269              0   \n",
       "\n",
       "   Результаты EKG  Max HR  Стенокардия  ST депрессия  Наклон ST  \\\n",
       "0               2     109            0           2.4          2   \n",
       "1               2     160            0           1.6          2   \n",
       "2               0     141            0           0.3          1   \n",
       "3               0     105            1           0.2          2   \n",
       "4               2     121            1           0.2          1   \n",
       "\n",
       "   Количество сосудов флюро  Таллий Сердечное заболевание  \n",
       "0                         3       3              Presence  \n",
       "1                         0       7               Absence  \n",
       "2                         0       7              Presence  \n",
       "3                         1       7               Absence  \n",
       "4                         1       3               Absence  "
      ]
     },
     "execution_count": 6,
     "metadata": {},
     "output_type": "execute_result"
    }
   ],
   "source": [
    "df.head()"
   ]
  },
  {
   "cell_type": "code",
   "execution_count": 7,
   "id": "068de3a7",
   "metadata": {},
   "outputs": [
    {
     "data": {
      "text/plain": [
       "Возраст             0\n",
       "Пол                 0\n",
       "Тип боли в груди    0\n",
       "Холестерин          0\n",
       "dtype: int64"
      ]
     },
     "execution_count": 7,
     "metadata": {},
     "output_type": "execute_result"
    }
   ],
   "source": [
    "X.isnull().sum()"
   ]
  },
  {
   "cell_type": "code",
   "execution_count": 8,
   "id": "6dd7ca8b",
   "metadata": {},
   "outputs": [
    {
     "data": {
      "text/html": [
       "<div>\n",
       "<style scoped>\n",
       "    .dataframe tbody tr th:only-of-type {\n",
       "        vertical-align: middle;\n",
       "    }\n",
       "\n",
       "    .dataframe tbody tr th {\n",
       "        vertical-align: top;\n",
       "    }\n",
       "\n",
       "    .dataframe thead th {\n",
       "        text-align: right;\n",
       "    }\n",
       "</style>\n",
       "<table border=\"1\" class=\"dataframe\">\n",
       "  <thead>\n",
       "    <tr style=\"text-align: right;\">\n",
       "      <th></th>\n",
       "      <th>Возраст</th>\n",
       "      <th>Пол</th>\n",
       "      <th>Тип боли в груди</th>\n",
       "      <th>Холестерин</th>\n",
       "    </tr>\n",
       "  </thead>\n",
       "  <tbody>\n",
       "    <tr>\n",
       "      <th>count</th>\n",
       "      <td>270.000000</td>\n",
       "      <td>270.000000</td>\n",
       "      <td>270.000000</td>\n",
       "      <td>270.000000</td>\n",
       "    </tr>\n",
       "    <tr>\n",
       "      <th>mean</th>\n",
       "      <td>54.433333</td>\n",
       "      <td>0.677778</td>\n",
       "      <td>3.174074</td>\n",
       "      <td>249.659259</td>\n",
       "    </tr>\n",
       "    <tr>\n",
       "      <th>std</th>\n",
       "      <td>9.109067</td>\n",
       "      <td>0.468195</td>\n",
       "      <td>0.950090</td>\n",
       "      <td>51.686237</td>\n",
       "    </tr>\n",
       "    <tr>\n",
       "      <th>min</th>\n",
       "      <td>29.000000</td>\n",
       "      <td>0.000000</td>\n",
       "      <td>1.000000</td>\n",
       "      <td>126.000000</td>\n",
       "    </tr>\n",
       "    <tr>\n",
       "      <th>25%</th>\n",
       "      <td>48.000000</td>\n",
       "      <td>0.000000</td>\n",
       "      <td>3.000000</td>\n",
       "      <td>213.000000</td>\n",
       "    </tr>\n",
       "    <tr>\n",
       "      <th>50%</th>\n",
       "      <td>55.000000</td>\n",
       "      <td>1.000000</td>\n",
       "      <td>3.000000</td>\n",
       "      <td>245.000000</td>\n",
       "    </tr>\n",
       "    <tr>\n",
       "      <th>75%</th>\n",
       "      <td>61.000000</td>\n",
       "      <td>1.000000</td>\n",
       "      <td>4.000000</td>\n",
       "      <td>280.000000</td>\n",
       "    </tr>\n",
       "    <tr>\n",
       "      <th>max</th>\n",
       "      <td>77.000000</td>\n",
       "      <td>1.000000</td>\n",
       "      <td>4.000000</td>\n",
       "      <td>564.000000</td>\n",
       "    </tr>\n",
       "  </tbody>\n",
       "</table>\n",
       "</div>"
      ],
      "text/plain": [
       "          Возраст         Пол  Тип боли в груди  Холестерин\n",
       "count  270.000000  270.000000        270.000000  270.000000\n",
       "mean    54.433333    0.677778          3.174074  249.659259\n",
       "std      9.109067    0.468195          0.950090   51.686237\n",
       "min     29.000000    0.000000          1.000000  126.000000\n",
       "25%     48.000000    0.000000          3.000000  213.000000\n",
       "50%     55.000000    1.000000          3.000000  245.000000\n",
       "75%     61.000000    1.000000          4.000000  280.000000\n",
       "max     77.000000    1.000000          4.000000  564.000000"
      ]
     },
     "execution_count": 8,
     "metadata": {},
     "output_type": "execute_result"
    }
   ],
   "source": [
    "X.describe()"
   ]
  },
  {
   "cell_type": "code",
   "execution_count": 9,
   "id": "0b4bdacc",
   "metadata": {},
   "outputs": [
    {
     "data": {
      "text/plain": [
       "((268, 4), (2, 4), (268,), (2,))"
      ]
     },
     "execution_count": 9,
     "metadata": {},
     "output_type": "execute_result"
    }
   ],
   "source": [
    "X_train, X_test, y_train, y_test = train_test_split(X, y, test_size = 0.005, random_state = 1)\n",
    "\n",
    "X_train.shape, X_test.shape, y_train.shape, y_test.shape"
   ]
  },
  {
   "cell_type": "code",
   "execution_count": 10,
   "id": "fbca0cda",
   "metadata": {},
   "outputs": [],
   "source": [
    "wcss = []\n",
    "x = X.to_numpy()\n",
    "\n",
    "for i in range(1, 11):\n",
    "    kmeans = KMeans(n_clusters = i, init = 'k-means++', max_iter = 300, n_init = 10, random_state = 0)\n",
    "    kmeans.fit(x) #Вычислить кластеризацию k-средних.\n",
    "    wcss.append(kmeans.inertia_)"
   ]
  },
  {
   "cell_type": "code",
   "execution_count": 11,
   "id": "74f6f9cc",
   "metadata": {},
   "outputs": [
    {
     "data": {
      "image/png": "[encoded data removed]",
      "text/plain": [
       "<Figure size 432x288 with 1 Axes>"
      ]
     },
     "metadata": {
      "image/png": {
       "height": 277,
       "width": 407
      },
      "needs_background": "light"
     },
     "output_type": "display_data"
    }
   ],
   "source": [
    "plt.plot(range(1, 11), wcss)\n",
    "plt.title('Метод логтя')\n",
    "plt.xlabel('Номер кластера')\n",
    "plt.ylabel('Внутрикластерная сумма квадратов') \n",
    "plt.show()"
   ]
  },
  {
   "cell_type": "code",
   "execution_count": 12,
   "id": "952a00c0",
   "metadata": {},
   "outputs": [
    {
     "data": {
      "text/html": [
       "<div>\n",
       "<style scoped>\n",
       "    .dataframe tbody tr th:only-of-type {\n",
       "        vertical-align: middle;\n",
       "    }\n",
       "\n",
       "    .dataframe tbody tr th {\n",
       "        vertical-align: top;\n",
       "    }\n",
       "\n",
       "    .dataframe thead th {\n",
       "        text-align: right;\n",
       "    }\n",
       "</style>\n",
       "<table border=\"1\" class=\"dataframe\">\n",
       "  <thead>\n",
       "    <tr style=\"text-align: right;\">\n",
       "      <th></th>\n",
       "      <th>Возраст</th>\n",
       "      <th>Пол</th>\n",
       "      <th>Тип боли в груди</th>\n",
       "      <th>BP</th>\n",
       "      <th>Холестерин</th>\n",
       "      <th>FBS свыше 120</th>\n",
       "      <th>Результаты EKG</th>\n",
       "      <th>Max HR</th>\n",
       "      <th>Стенокардия</th>\n",
       "      <th>ST депрессия</th>\n",
       "      <th>Наклон ST</th>\n",
       "      <th>Количество сосудов флюро</th>\n",
       "      <th>Таллий</th>\n",
       "      <th>Сердечное заболевание</th>\n",
       "      <th>seg_km1</th>\n",
       "    </tr>\n",
       "  </thead>\n",
       "  <tbody>\n",
       "    <tr>\n",
       "      <th>0</th>\n",
       "      <td>70</td>\n",
       "      <td>1</td>\n",
       "      <td>4</td>\n",
       "      <td>130</td>\n",
       "      <td>322</td>\n",
       "      <td>0</td>\n",
       "      <td>2</td>\n",
       "      <td>109</td>\n",
       "      <td>0</td>\n",
       "      <td>2.4</td>\n",
       "      <td>2</td>\n",
       "      <td>3</td>\n",
       "      <td>3</td>\n",
       "      <td>Presence</td>\n",
       "      <td>0</td>\n",
       "    </tr>\n",
       "    <tr>\n",
       "      <th>1</th>\n",
       "      <td>67</td>\n",
       "      <td>0</td>\n",
       "      <td>3</td>\n",
       "      <td>115</td>\n",
       "      <td>564</td>\n",
       "      <td>0</td>\n",
       "      <td>2</td>\n",
       "      <td>160</td>\n",
       "      <td>0</td>\n",
       "      <td>1.6</td>\n",
       "      <td>2</td>\n",
       "      <td>0</td>\n",
       "      <td>7</td>\n",
       "      <td>Absence</td>\n",
       "      <td>3</td>\n",
       "    </tr>\n",
       "    <tr>\n",
       "      <th>2</th>\n",
       "      <td>57</td>\n",
       "      <td>1</td>\n",
       "      <td>2</td>\n",
       "      <td>124</td>\n",
       "      <td>261</td>\n",
       "      <td>0</td>\n",
       "      <td>0</td>\n",
       "      <td>141</td>\n",
       "      <td>0</td>\n",
       "      <td>0.3</td>\n",
       "      <td>1</td>\n",
       "      <td>0</td>\n",
       "      <td>7</td>\n",
       "      <td>Presence</td>\n",
       "      <td>2</td>\n",
       "    </tr>\n",
       "    <tr>\n",
       "      <th>3</th>\n",
       "      <td>64</td>\n",
       "      <td>1</td>\n",
       "      <td>4</td>\n",
       "      <td>128</td>\n",
       "      <td>263</td>\n",
       "      <td>0</td>\n",
       "      <td>0</td>\n",
       "      <td>105</td>\n",
       "      <td>1</td>\n",
       "      <td>0.2</td>\n",
       "      <td>2</td>\n",
       "      <td>1</td>\n",
       "      <td>7</td>\n",
       "      <td>Absence</td>\n",
       "      <td>2</td>\n",
       "    </tr>\n",
       "    <tr>\n",
       "      <th>4</th>\n",
       "      <td>74</td>\n",
       "      <td>0</td>\n",
       "      <td>2</td>\n",
       "      <td>120</td>\n",
       "      <td>269</td>\n",
       "      <td>0</td>\n",
       "      <td>2</td>\n",
       "      <td>121</td>\n",
       "      <td>1</td>\n",
       "      <td>0.2</td>\n",
       "      <td>1</td>\n",
       "      <td>1</td>\n",
       "      <td>3</td>\n",
       "      <td>Absence</td>\n",
       "      <td>2</td>\n",
       "    </tr>\n",
       "  </tbody>\n",
       "</table>\n",
       "</div>"
      ],
      "text/plain": [
       "   Возраст  Пол  Тип боли в груди   BP  Холестерин  FBS свыше 120  \\\n",
       "0       70    1                 4  130         322              0   \n",
       "1       67    0                 3  115         564              0   \n",
       "2       57    1                 2  124         261              0   \n",
       "3       64    1                 4  128         263              0   \n",
       "4       74    0                 2  120         269              0   \n",
       "\n",
       "   Результаты EKG  Max HR  Стенокардия  ST депрессия  Наклон ST  \\\n",
       "0               2     109            0           2.4          2   \n",
       "1               2     160            0           1.6          2   \n",
       "2               0     141            0           0.3          1   \n",
       "3               0     105            1           0.2          2   \n",
       "4               2     121            1           0.2          1   \n",
       "\n",
       "   Количество сосудов флюро  Таллий Сердечное заболевание  seg_km1  \n",
       "0                         3       3              Presence        0  \n",
       "1                         0       7               Absence        3  \n",
       "2                         0       7              Presence        2  \n",
       "3                         1       7               Absence        2  \n",
       "4                         1       3               Absence        2  "
      ]
     },
     "execution_count": 12,
     "metadata": {},
     "output_type": "execute_result"
    }
   ],
   "source": [
    "kmeans = KMeans(n_clusters = 6, init = 'k-means++', max_iter = 300, n_init = 10, random_state = 0)\n",
    "y_kmeans = kmeans.fit(x)\n",
    "labels1 = kmeans.labels_\n",
    "centroids1 = kmeans.cluster_centers_\n",
    "Z = y_kmeans.predict(x)\n",
    "df['seg_km1'] = Z\n",
    "df.head()"
   ]
  },
  {
   "cell_type": "code",
   "execution_count": 13,
   "id": "7e4538ca",
   "metadata": {},
   "outputs": [
    {
     "data": {
      "text/html": [
       "<div>\n",
       "<style scoped>\n",
       "    .dataframe tbody tr th:only-of-type {\n",
       "        vertical-align: middle;\n",
       "    }\n",
       "\n",
       "    .dataframe tbody tr th {\n",
       "        vertical-align: top;\n",
       "    }\n",
       "\n",
       "    .dataframe thead th {\n",
       "        text-align: right;\n",
       "    }\n",
       "</style>\n",
       "<table border=\"1\" class=\"dataframe\">\n",
       "  <thead>\n",
       "    <tr style=\"text-align: right;\">\n",
       "      <th></th>\n",
       "      <th>Возраст</th>\n",
       "      <th>Холестерин</th>\n",
       "    </tr>\n",
       "    <tr>\n",
       "      <th>seg_km1</th>\n",
       "      <th></th>\n",
       "      <th></th>\n",
       "    </tr>\n",
       "  </thead>\n",
       "  <tbody>\n",
       "    <tr>\n",
       "      <th>0</th>\n",
       "      <td>55.705882</td>\n",
       "      <td>307.235294</td>\n",
       "    </tr>\n",
       "    <tr>\n",
       "      <th>1</th>\n",
       "      <td>53.554217</td>\n",
       "      <td>225.530120</td>\n",
       "    </tr>\n",
       "    <tr>\n",
       "      <th>2</th>\n",
       "      <td>56.307692</td>\n",
       "      <td>262.897436</td>\n",
       "    </tr>\n",
       "    <tr>\n",
       "      <th>3</th>\n",
       "      <td>67.000000</td>\n",
       "      <td>564.000000</td>\n",
       "    </tr>\n",
       "    <tr>\n",
       "      <th>4</th>\n",
       "      <td>50.580000</td>\n",
       "      <td>185.120000</td>\n",
       "    </tr>\n",
       "    <tr>\n",
       "      <th>5</th>\n",
       "      <td>60.428571</td>\n",
       "      <td>384.857143</td>\n",
       "    </tr>\n",
       "  </tbody>\n",
       "</table>\n",
       "</div>"
      ],
      "text/plain": [
       "           Возраст  Холестерин\n",
       "seg_km1                       \n",
       "0        55.705882  307.235294\n",
       "1        53.554217  225.530120\n",
       "2        56.307692  262.897436\n",
       "3        67.000000  564.000000\n",
       "4        50.580000  185.120000\n",
       "5        60.428571  384.857143"
      ]
     },
     "execution_count": 13,
     "metadata": {},
     "output_type": "execute_result"
    }
   ],
   "source": [
    "df.groupby(['seg_km1'])[['Возраст', 'Холестерин']].mean()"
   ]
  },
  {
   "cell_type": "markdown",
   "id": "b969bd11",
   "metadata": {},
   "source": [
    "**Диаграмма рассеивания - scatter plot**"
   ]
  },
  {
   "cell_type": "code",
   "execution_count": 14,
   "id": "ec6d7d79",
   "metadata": {},
   "outputs": [
    {
     "data": {
      "text/plain": [
       "Text(0, 0.5, 'Холестерин')"
      ]
     },
     "execution_count": 14,
     "metadata": {},
     "output_type": "execute_result"
    },
    {
     "data": {
      "image/png": "[encoded data removed]",
      "text/plain": [
       "<Figure size 432x288 with 1 Axes>"
      ]
     },
     "metadata": {
      "image/png": {
       "height": 261,
       "width": 388
      },
      "needs_background": "light"
     },
     "output_type": "display_data"
    }
   ],
   "source": [
    "plt.scatter(x = df['Возраст'], y = df['Холестерин'], \n",
    "            c = df['seg_km1'], alpha = 0.3)\n",
    "plt.xlabel('Возраст')\n",
    "plt.ylabel('Холестерин')"
   ]
  },
  {
   "cell_type": "markdown",
   "id": "3829183a",
   "metadata": {},
   "source": [
    "**Модель машинного обучения с помощью алгоритма Дерево решений. Обучение модели**"
   ]
  },
  {
   "cell_type": "code",
   "execution_count": 18,
   "id": "d39e3ad7",
   "metadata": {},
   "outputs": [
    {
     "data": {
      "text/plain": [
       "((268, 4), (2, 4), (268,), (2,))"
      ]
     },
     "execution_count": 18,
     "metadata": {},
     "output_type": "execute_result"
    }
   ],
   "source": [
    "X = df[['Возраст','Пол','Холестерин','Стенокардия']]\n",
    "X = X.replace({'Пол' : {'Мужчина':0, 'Женщина':1}})\n",
    "y = df['Сердечное заболевание']\n",
    "X_train, X_test, y_train, y_test = train_test_split(X, y, test_size = 0.005, random_state = 1)\n",
    "\n",
    "X_train.shape, X_test.shape, y_train.shape, y_test.shape"
   ]
  },
  {
   "cell_type": "code",
   "execution_count": 19,
   "id": "6968d85f",
   "metadata": {},
   "outputs": [],
   "source": [
    "predictors = ['Возраст', 'Холестерин']\n",
    "decision_tree_model1 = DecisionTreeClassifier(random_state=14, criterion='entropy',\n",
    "                                   max_depth=4)\n",
    "decision_tree_model1.fit(X_train[predictors], y_train)\n",
    "y_pred = decision_tree_model1.predict(X_test[predictors])"
   ]
  },
  {
   "cell_type": "markdown",
   "id": "89191275",
   "metadata": {},
   "source": [
    "**Прогноз и оценка модели**"
   ]
  },
  {
   "cell_type": "code",
   "execution_count": 20,
   "id": "ae849564",
   "metadata": {},
   "outputs": [
    {
     "name": "stdout",
     "output_type": "stream",
     "text": [
      "Доля верных прогнозов:  100.0\n"
     ]
    }
   ],
   "source": [
    "dol_tree_model1 = accuracy_score(y_pred, y_test) * 100\n",
    "print('Доля верных прогнозов: ', dol_tree_model1)"
   ]
  },
  {
   "cell_type": "code",
   "execution_count": null,
   "id": "42197231",
   "metadata": {},
   "outputs": [],
   "source": []
  }
 ],
 "metadata": {
  "kernelspec": {
   "display_name": "Python 3 (ipykernel)",
   "language": "python",
   "name": "python3"
  },
  "language_info": {
   "codemirror_mode": {
    "name": "ipython",
    "version": 3
   },
   "file_extension": ".py",
   "mimetype": "text/x-python",
   "name": "python",
   "nbconvert_exporter": "python",
   "pygments_lexer": "ipython3",
   "version": "3.9.12"
  }
 },
 "nbformat": 4,
 "nbformat_minor": 5
}
